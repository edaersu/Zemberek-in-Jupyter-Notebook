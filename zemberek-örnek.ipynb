{
 "cells": [
  {
   "cell_type": "markdown",
   "metadata": {},
   "source": [
    "# Zemberek"
   ]
  },
  {
   "cell_type": "markdown",
   "metadata": {},
   "source": [
    "## Jar dosyası içerisindeki class isimlerini kontrol etme"
   ]
  },
  {
   "cell_type": "code",
   "execution_count": null,
   "metadata": {},
   "outputs": [],
   "source": [
    "from zipfile import *\n",
    "import zipfile"
   ]
  },
  {
   "cell_type": "code",
   "execution_count": null,
   "metadata": {},
   "outputs": [],
   "source": [
    "\"\"\"\n",
    "jar dosyalarını okuyarak içerisindeki class isimlerine erişebiliriz. \n",
    "class içeriklerine ve methodlarına https://github.com/ahmetaa/zemberek-nlp reposundan ulaşabilirsiniz.\n",
    "\"\"\"\n",
    "def read_jar(jar_file):\n",
    "    zf = zipfile.ZipFile(jar_file, 'r')\n",
    "    try:\n",
    "        lst = zf.infolist()\n",
    "        for zi in lst:\n",
    "            fn = zi.filename\n",
    "            print(fn)     \n",
    "    finally:\n",
    "        zf.close()"
   ]
  },
  {
   "cell_type": "code",
   "execution_count": null,
   "metadata": {},
   "outputs": [],
   "source": [
    "read_jar(r\"C:\\Users\\Eda\\Desktop\\zemberek\\zemberek-tum-2.0.jar\")"
   ]
  },
  {
   "cell_type": "markdown",
   "metadata": {},
   "source": [
    "## Zemberek kütüphanesini dahil etme ve methodlarına erişme"
   ]
  },
  {
   "cell_type": "code",
   "execution_count": 1,
   "metadata": {},
   "outputs": [],
   "source": [
    "import jpype"
   ]
  },
  {
   "cell_type": "code",
   "execution_count": 2,
   "metadata": {},
   "outputs": [],
   "source": [
    "\"\"\"\n",
    "libjvmpath değişkenine Java/jdk altındaki jvm.dll adresini atıyoruz.\n",
    "Bu repodaki veya başka bir adresden indirdiğiniz, kullanacağınız zemberek jar dosya/dosyalarının bilgisayarınızdaki \n",
    "adreslerini jar1, jar2,jar3... değişkenlerine atıyoruz.\n",
    "Tek bir jar dosyası veya birden çok jar dosyasını kullanabilirsiniz.\n",
    "\"\"\" \n",
    "libjvmpath = \"C:\\Program Files\\Java\\jdk-11.0.8\\\\bin\\server\\jvm.dll\"\n",
    "jar1 = r\"C:\\Users\\Eda\\Desktop\\zemberek\\zemberek-tum-2.0.jar\"\n",
    "jar2 = r\"C:\\Users\\Eda\\Desktop\\zemberek\\zemberek-full.jar\""
   ]
  },
  {
   "cell_type": "code",
   "execution_count": 3,
   "metadata": {},
   "outputs": [],
   "source": [
    "\"\"\"\n",
    "Java Sanal Makinesini başlatıyoruz.\n",
    "parametre olarak jvm.dll adresini tuttuğumuz libjvmpath ve kullanmak istediğimiz jar dosyalarının adreslerini \n",
    "liste olarak veriyoruz.\n",
    "\"\"\"\n",
    "if not jpype.isJVMStarted():\n",
    "    jpype.startJVM(jvmpath=libjvmpath, classpath=[jar1,jar2])"
   ]
  },
  {
   "cell_type": "code",
   "execution_count": 4,
   "metadata": {},
   "outputs": [],
   "source": [
    "\"\"\"\n",
    "TurkiyeTurkcesi.java jar1 adresinde tutulan jar dosyasındaki bir java classı.\n",
    "Burada özetle TurkiyeTurkcesi.java adlı classın methodlarını kullanabilmek için JClass içerisinde bunu belirtiyoruz.\n",
    "zemberek_r nesnesi üzerinden methodlara erişebiliriz.\n",
    "\"\"\"\n",
    "try:\n",
    "    TurkiyeTurkcesi = jpype.JClass(\"net.zemberek.tr.yapi.TurkiyeTurkcesi\")\n",
    "    turkiye_turkcesi = TurkiyeTurkcesi()\n",
    "    Zemberek = jpype.JClass(\"net.zemberek.erisim.Zemberek\")\n",
    "    zemberek_r = Zemberek(turkiye_turkcesi)\n",
    "except:\n",
    "    print(\"path yanlış\")"
   ]
  },
  {
   "cell_type": "code",
   "execution_count": 5,
   "metadata": {},
   "outputs": [
    {
     "name": "stdout",
     "output_type": "stream",
     "text": [
      "{Icerik: okuldakiler Kok: okul tip:ISIM}  Ekler:ISIM_KOK + ISIM_KALMA_DE + ISIM_BULUNMA_KI + ISIM_COGUL_LER\n"
     ]
    }
   ],
   "source": [
    "result=zemberek_r.kelimeCozumle(\"okuldakiler\")\n",
    "for i in result:\n",
    "    print(i)"
   ]
  },
  {
   "cell_type": "code",
   "execution_count": 12,
   "metadata": {},
   "outputs": [],
   "source": [
    "\"\"\"\n",
    "TurkishMorphology ve TurkishSentenceNormalizer jar2 adresinde tutulan jar dosyasındaki iki farklı java classı.\n",
    "Diğer class ve methodlara erişebilmek için;\n",
    "https://github.com/ahmetaa/zemberek-nlp adresine bakabilirsiniz.\n",
    " \n",
    "\"\"\"\n",
    "TurkishMorphology = jpype.JClass('zemberek.morphology.TurkishMorphology')\n",
    "TurkishSpellChecker=jpype.JClass('zemberek.normalization.TurkishSpellChecker')\n",
    "morphology = TurkishMorphology.createWithDefaults()\n"
   ]
  },
  {
   "cell_type": "code",
   "execution_count": 13,
   "metadata": {},
   "outputs": [
    {
     "name": "stdout",
     "output_type": "stream",
     "text": [
      "[final:Noun] final:Noun+ler:A3pl\n",
      "[bitmek:Verb] bit:Verb|tik:PastPart→Noun+A3sg+ten:Abl\n",
      "[sonra:Postp,PCAbl] sonra:Postp\n",
      "[tatil:Noun] tatil:Noun+A3sg\n",
      "[yapmak:Verb] yap:Verb+acağ:Fut+ım:A1sg\n"
     ]
    }
   ],
   "source": [
    "kelimeler = 'finaller bittikten sonra tatil yapacağım'\n",
    "analysis: jpype.java.util.ArrayList = (\n",
    "    morphology.analyzeAndDisambiguate(kelimeler).bestAnalysis()\n",
    "    )\n",
    "for i in analysis:\n",
    "    print(i)"
   ]
  },
  {
   "cell_type": "code",
   "execution_count": 15,
   "metadata": {
    "scrolled": true
   },
   "outputs": [
    {
     "name": "stdout",
     "output_type": "stream",
     "text": [
      "İstanbul\n",
      "İstanbul'a\n",
      "İstanbul'u\n",
      "Istanbul\n"
     ]
    }
   ],
   "source": [
    "spell_checker: TurkishSpellChecker = TurkishSpellChecker(morphology)\n",
    "suggestions: jpype.java.util.ArrayList = spell_checker.suggestForWord(jpype.JString(\"İstanbul\"))\n",
    "for i in suggestions:\n",
    "    print(i)"
   ]
  },
  {
   "cell_type": "code",
   "execution_count": null,
   "metadata": {
    "scrolled": true
   },
   "outputs": [],
   "source": []
  },
  {
   "cell_type": "code",
   "execution_count": null,
   "metadata": {},
   "outputs": [],
   "source": []
  }
 ],
 "metadata": {
  "kernelspec": {
   "display_name": "Python 3",
   "language": "python",
   "name": "python3"
  },
  "language_info": {
   "codemirror_mode": {
    "name": "ipython",
    "version": 3
   },
   "file_extension": ".py",
   "mimetype": "text/x-python",
   "name": "python",
   "nbconvert_exporter": "python",
   "pygments_lexer": "ipython3",
   "version": "3.8.5"
  }
 },
 "nbformat": 4,
 "nbformat_minor": 4
}
